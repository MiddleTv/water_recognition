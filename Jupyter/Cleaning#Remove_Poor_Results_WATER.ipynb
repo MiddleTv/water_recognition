{
 "cells": [
  {
   "cell_type": "code",
   "execution_count": 1,
   "metadata": {},
   "outputs": [
    {
     "name": "stderr",
     "output_type": "stream",
     "text": [
      "Using TensorFlow backend.\n"
     ]
    }
   ],
   "source": [
    "from os import listdir, remove\n",
    "from keras.preprocessing.image import img_to_array\n",
    "from keras.preprocessing.image import load_img\n",
    "from numpy import count_nonzero\n",
    "import sys\n",
    "import numpy as np\n",
    "np.set_printoptions(threshold=sys.maxsize)"
   ]
  },
  {
   "cell_type": "code",
   "execution_count": 2,
   "metadata": {},
   "outputs": [],
   "source": [
    "# load all images in a directory into memory\n",
    "def remove_poor_water_photos(lan_path, wat_path, TOTAL_PIXELS=(1280*1280*3), PERCENTAGE_BOUNDARY= 5):\n",
    "    # enumerate filenames in directory, assume all are images\n",
    "    list_length = len([name for name in listdir(wat_path)])\n",
    "    i = 0\n",
    "    total_removed = 0\n",
    "    \n",
    "    color_white = np.array([255, 255, 255])\n",
    "    color_blue = np.array([0, 0, 255])\n",
    "    color_grey = np.array([204, 204, 204])\n",
    "    color_light_blue = np.array([153, 217, 234])\n",
    "    #no_data = np.array([0, 0, 0])\n",
    "\n",
    "    for filename in listdir(wat_path):\n",
    "        i = i + 1\n",
    "        try:\n",
    "            # load and image\n",
    "            water_img = load_img(wat_path + filename)\n",
    "            # convert to numpy array\n",
    "            water_arr = img_to_array(water_img)\n",
    "            # calculate percentage of empty pixels compared to whole image\n",
    "\n",
    "            sum_white = np.sum(np.all(water_arr == color_white, axis=2))\n",
    "            sum_blue = np.sum(np.all(water_arr == color_blue, axis=2))\n",
    "            sum_grey = np.sum(np.all(water_arr == color_grey, axis=2))\n",
    "            sum_light_blue = np.sum(np.all(water_arr == color_light_blue, axis=2))\n",
    "            #sum_no_data = np.sum(np.all(water_arr == no_data, axis=2))\n",
    "            \n",
    "            # if more white+grey than blue+lightblue pixels then remove\n",
    "            if(sum_light_blue+sum_blue < sum_white+sum_grey):\n",
    "                remove(wat_path+filename)\n",
    "                remove(lan_path+filename)\n",
    "                print(\"removed: \" + filename)\n",
    "                total_removed = total_removed + 1\n",
    "        except:\n",
    "            print(str(filename) + \" ERROR!\")\n",
    "        current = str(i) + \"/\" + str(list_length) + \" || Total Removed: \" + str(total_removed)\n",
    "        print (current, end = \"\\r\")\n",
    "    return water_arr"
   ]
  },
  {
   "cell_type": "code",
   "execution_count": null,
   "metadata": {},
   "outputs": [
    {
     "name": "stdout",
     "output_type": "stream",
     "text": [
      "11.9344_-86.0514_1996.png ERROR!\n",
      "removed: 14.0808_-83.5102_1986.png\n",
      "removed: 14.0808_-83.5102_1987.png\n",
      "removed: 14.0808_-83.5102_1991.png\n",
      "removed: 14.0808_-83.5102_1993.png\n",
      "removed: 14.0808_-83.5102_1996.png\n",
      "removed: 14.0808_-83.5102_1997.png\n",
      "removed: 14.0808_-83.5102_2000.png\n",
      "removed: 14.0808_-83.5102_2001.png\n",
      "removed: 14.0808_-83.5102_2002.png\n",
      "removed: 14.0808_-83.5102_2003.png\n",
      "removed: 14.0808_-83.5102_2004.png\n",
      "removed: 14.0808_-83.5102_2005.png\n",
      "removed: 14.0808_-83.5102_2006.png\n",
      "removed: 14.0808_-83.5102_2008.png\n",
      "removed: 14.0808_-83.5102_2009.png\n",
      "removed: 14.0808_-83.5102_2010.png\n",
      "removed: 14.0808_-83.5102_2011.png\n",
      "removed: 14.0808_-83.5102_2012.png\n",
      "removed: 14.0808_-83.5102_2013.png\n",
      "removed: 14.0808_-83.5102_2014.png\n",
      "removed: 14.0808_-83.5102_2015.png\n",
      "removed: 14.0808_-83.5102_2017.png\n",
      "removed: 14.0808_-83.5102_2019.png\n",
      "removed: 14.0825_-89.1204_1991.png\n",
      "removed: 14.1574_-83.5562_1986.png\n",
      "removed: 14.1574_-83.5562_1991.png\n",
      "removed: 14.1574_-83.5562_1993.png\n",
      "removed: 14.1574_-83.5562_1996.png\n",
      "removed: 14.1574_-83.5562_1997.png\n",
      "removed: 14.1574_-83.5562_2000.png\n",
      "removed: 14.1574_-83.5562_2001.png\n",
      "removed: 14.1574_-83.5562_2002.png\n",
      "removed: 14.1574_-83.5562_2003.png\n",
      "removed: 14.1574_-83.5562_2004.png\n",
      "removed: 14.1574_-83.5562_2005.png\n",
      "removed: 14.1574_-83.5562_2006.png\n",
      "removed: 14.1574_-83.5562_2008.png\n",
      "removed: 14.1574_-83.5562_2009.png\n",
      "removed: 14.1574_-83.5562_2010.png\n",
      "removed: 14.1574_-83.5562_2011.png\n",
      "removed: 14.1574_-83.5562_2012.png\n",
      "removed: 14.1574_-83.5562_2013.png\n",
      "removed: 14.1574_-83.5562_2014.png\n",
      "removed: 14.1574_-83.5562_2015.png\n",
      "642/4854 || Total Removed: 44\r"
     ]
    }
   ],
   "source": [
    "# dataset path\n",
    "land_path = './land/'\n",
    "water_path = './water/'\n",
    "# load dataset\n",
    "land_images = remove_poor_water_photos(land_path, water_path)"
   ]
  },
  {
   "cell_type": "code",
   "execution_count": null,
   "metadata": {},
   "outputs": [],
   "source": []
  }
 ],
 "metadata": {
  "kernelspec": {
   "display_name": "Python 3",
   "language": "python",
   "name": "python3"
  },
  "language_info": {
   "codemirror_mode": {
    "name": "ipython",
    "version": 3
   },
   "file_extension": ".py",
   "mimetype": "text/x-python",
   "name": "python",
   "nbconvert_exporter": "python",
   "pygments_lexer": "ipython3",
   "version": "3.9.2"
  }
 },
 "nbformat": 4,
 "nbformat_minor": 4
}

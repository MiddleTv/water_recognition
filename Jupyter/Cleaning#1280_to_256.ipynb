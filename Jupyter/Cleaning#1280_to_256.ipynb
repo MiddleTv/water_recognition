{
 "cells": [
  {
   "cell_type": "code",
   "execution_count": null,
   "id": "1965d539",
   "metadata": {},
   "outputs": [],
   "source": [
    "from os import listdir\n",
    "from numpy import asarray\n",
    "from keras.preprocessing.image import img_to_array\n",
    "from keras.preprocessing.image import load_img\n",
    "from numpy import savez_compressed"
   ]
  },
  {
   "cell_type": "code",
   "execution_count": null,
   "id": "28b3728c",
   "metadata": {},
   "outputs": [],
   "source": [
    "# load all images in a directory into memory\n",
    "def load_images(lan_path, wat_path, size=(256,256)):\n",
    "    land_list, water_list = list(), list()\n",
    "    # enumerate filenames in directory, assume all are images\n",
    "    list_length = len([name for name in listdir(lan_path)])\n",
    "    i = 0\n",
    "    for filename in listdir(lan_path):\n",
    "        i = i + 1\n",
    "        try:\n",
    "            # load and resize the image\n",
    "            water_img = load_img(wat_path + filename, target_size=size)\n",
    "            land_img = load_img(lan_path + filename, target_size=size)\n",
    "            # convert to numpy array\n",
    "            water_arr = img_to_array(water_img)\n",
    "            land_arr = img_to_array(land_img)\n",
    "            # add to list\n",
    "            land_list.append(land_arr)\n",
    "            water_list.append(water_arr)\n",
    "        except:\n",
    "            print(str(filename) + \" not found\")\n",
    "        current = str(i) + \"/\" + str(list_length)\n",
    "        print (current, end = \"\\r\")\n",
    "    return [asarray(land_list), asarray(water_list)]"
   ]
  },
  {
   "cell_type": "code",
   "execution_count": null,
   "id": "8c24d5a3",
   "metadata": {},
   "outputs": [],
   "source": [
    "# dataset path\n",
    "land_path = './land/'\n",
    "water_path = './water/'\n",
    "\n",
    "# load dataset\n",
    "[land_images, water_images] = load_images(land_path, water_path)\n",
    "print('Loaded: ', land_images.shape, water_images.shape)\n",
    "# save as compressed numpy array - rename file to continent e.g. 'EU_256.npz'\n",
    "filename = 'points_256.npz'\n",
    "savez_compressed(filename, land_images, water_images)\n",
    "print('Saved dataset: ', filename)"
   ]
  },
  {
   "cell_type": "code",
   "execution_count": null,
   "id": "a4aa941b",
   "metadata": {},
   "outputs": [],
   "source": [
    "# DOES USUALLY TAKE A COUPLE OF MINUTES TO LOAD AND CONVERT ALL IMAGES\n",
    "\n",
    "# MAKE SURE THAT ALL IMAGES YOU WANT TO CONVERT ARE IN THE 'WATER' AND 'LAND' FOLDERS\n",
    "# OR CHANGE THE SPECIFIED PATH"
   ]
  }
 ],
 "metadata": {
  "kernelspec": {
   "display_name": "Python 3",
   "language": "python",
   "name": "python3"
  },
  "language_info": {
   "codemirror_mode": {
    "name": "ipython",
    "version": 3
   },
   "file_extension": ".py",
   "mimetype": "text/x-python",
   "name": "python",
   "nbconvert_exporter": "python",
   "pygments_lexer": "ipython3",
   "version": "3.7.10"
  }
 },
 "nbformat": 4,
 "nbformat_minor": 5
}

{
 "cells": [
  {
   "cell_type": "code",
   "execution_count": 1,
   "id": "3964146e",
   "metadata": {},
   "outputs": [],
   "source": [
    "##EXTRACTING SCRIPT -> IMAGECOLLECTION -> IMAGE -> GOOGLEDRIVE"
   ]
  },
  {
   "cell_type": "code",
   "execution_count": 10,
   "id": "d23b3c65",
   "metadata": {
    "scrolled": true
   },
   "outputs": [
    {
     "data": {
      "application/vnd.jupyter.widget-view+json": {
       "model_id": "7d822d62c3304bd6a27b1a4843399ba1",
       "version_major": 2,
       "version_minor": 0
      },
      "text/plain": [
       "Map(center=[40, -100], controls=(WidgetControl(options=['position', 'transparent_bg'], widget=HBox(children=(T…"
      ]
     },
     "metadata": {},
     "output_type": "display_data"
    }
   ],
   "source": [
    "import ee\n",
    "import geemap\n",
    "import os\n",
    "\n",
    "Map = geemap.Map()\n",
    "Map"
   ]
  },
  {
   "cell_type": "code",
   "execution_count": 4,
   "id": "4bd8d3aa",
   "metadata": {},
   "outputs": [],
   "source": [
    "def maskL8sr(image):\n",
    "  # Bits 3 and 5 are cloud shadow and cloud, respectively.\n",
    "  cloudShadowBitMask = (1 << 3)\n",
    "  cloudsBitMask = (1 << 5)\n",
    "  # Get the pixel QA band.\n",
    "  qa = image.select('pixel_qa')\n",
    "  # Both flags should be set to zero, indicating clear conditions.\n",
    "  mask = qa.bitwiseAnd(cloudShadowBitMask).eq(0) \\\n",
    "                 .And(qa.bitwiseAnd(cloudsBitMask).eq(0))\n",
    "  return image.updateMask(mask)"
   ]
  },
  {
   "cell_type": "code",
   "execution_count": 5,
   "id": "1268f2e0",
   "metadata": {},
   "outputs": [],
   "source": [
    "#MASKING FUNCTION FOR L5 AND L7\n",
    "def cloudMaskL457(image):\n",
    "  qa = image.select('pixel_qa')\n",
    "  # If the cloud bit (5) is set and the cloud confidence (7) is high\n",
    "  # or the cloud shadow bit is set (3), then it's a bad pixel.\n",
    "  cloud = qa.bitwiseAnd(1 << 5) \\\n",
    "                  .And(qa.bitwiseAnd(1 << 7)) \\\n",
    "                  .Or(qa.bitwiseAnd(1 << 3))\n",
    "  # Remove edge pixels that don't occur in all bands\n",
    "  mask2 = image.mask().reduce(ee.Reducer.min())\n",
    "  return image.updateMask(cloud.Not()).updateMask(mask2)"
   ]
  },
  {
   "cell_type": "code",
   "execution_count": 64,
   "id": "6a8d1034",
   "metadata": {},
   "outputs": [],
   "source": [
    "#setting variables\n",
    "pointA = [12.37558, 45.51725]\n",
    "pointB = [12.46914, 45.47393]\n",
    "\n",
    "region = ee.Geometry.Rectangle([pointA[0], pointA[1], pointB[0], pointB[1]])\n",
    "folder = \"Test_Folder\"\n",
    "scale = 30\n",
    "\n",
    "################ CHANGE THIS FOR HOW MANY ITERATION WILL BE MADE #####################\n",
    "starting_year = 2019"
   ]
  },
  {
   "cell_type": "code",
   "execution_count": 65,
   "id": "b17e15cf",
   "metadata": {},
   "outputs": [],
   "source": [
    "def exportLandsatImage(year):\n",
    "  if year<1999:\n",
    "    \n",
    "    dataset = ee.ImageCollection('LANDSAT/LT05/C01/T1_SR') \\\n",
    "                  .filterDate(str(year)+'-01-01', str(year)+'-12-31') \\\n",
    "                  .map(cloudMaskL457) \\\n",
    "\n",
    "    image = dataset.select(['B3', 'B2', 'B1']).median()\n",
    "    vis = {\n",
    "      'bands': ['B3', 'B2', 'B1'],\n",
    "      'gamma': 1.4,\n",
    "      'max': 3000,\n",
    "      'min': 0\n",
    "    }\n",
    "  elif year<2013 :\n",
    "    dataset = ee.ImageCollection('LANDSAT/LE07/C01/T1_SR') \\\n",
    "                  .filterDate(str(year)+'-01-01', str(year)+'-12-31') \\\n",
    "                  .map(cloudMaskL457) \\\n",
    "\n",
    "    image = dataset.select(['B3', 'B2', 'B1']).median()\n",
    "    vis = {\n",
    "      'bands': ['B3', 'B2', 'B1'],\n",
    "      'gamma': 1.4,\n",
    "      'max': 3000,\n",
    "      'min': 0\n",
    "    }\n",
    "  else :\n",
    "    dataset = ee.ImageCollection('LANDSAT/LC08/C01/T1_SR') \\\n",
    "                  .filterDate(str(year)+'-01-01', str(year)+'-12-31') \\\n",
    "                  .map(maskL8sr) \\\n",
    "\n",
    "    dataset_bands = dataset.select(['B4', 'B3', 'B2'])\n",
    "\n",
    "    image = ee.ImageCollection.toBands(dataset_bands)\n",
    "    \n",
    "    vis = {\n",
    "      'bands': [\"B4\",\"B3\",\"B2\"],\n",
    "      'gamma': 1.4,\n",
    "      'max': 3000,\n",
    "      'min': 0\n",
    "    }\n",
    "        \n",
    "  out_dir = os.path.join(os.path.expanduser('~'), 'Downloads')\n",
    "  name = str(year) + '_landsat.tif'\n",
    "  filename = os.path.join(out_dir, name)\n",
    "\n",
    "  image = image.clip(region).unmask()\n",
    "  print(\"wooooooooooop\")\n",
    "  geemap.ee_export_image(image, filename = filename, scale=scale, region=region, file_per_band=False)  "
   ]
  },
  {
   "cell_type": "code",
   "execution_count": null,
   "id": "76ea2981",
   "metadata": {},
   "outputs": [
    {
     "name": "stdout",
     "output_type": "stream",
     "text": [
      "wooooooooooop\n",
      "Generating URL ...\n"
     ]
    }
   ],
   "source": [
    "for year in range(starting_year,2020,1):\n",
    "\n",
    "  #gets right landset and exports image\n",
    "  exportLandsatImage(year)\n",
    "  #creates image of water map and exports\n",
    "  dataset_water = ee.ImageCollection(\"JRC/GSW1_2/YearlyHistory\") \\\n",
    "                  .filterDate(str(year)+'-01-01', str(year)+'-12-31')\n",
    "\n",
    "  image_water = dataset_water.select(['waterClass']).median()"
   ]
  }
 ],
 "metadata": {
  "kernelspec": {
   "display_name": "Python 3",
   "language": "python",
   "name": "python3"
  },
  "language_info": {
   "codemirror_mode": {
    "name": "ipython",
    "version": 3
   },
   "file_extension": ".py",
   "mimetype": "text/x-python",
   "name": "python",
   "nbconvert_exporter": "python",
   "pygments_lexer": "ipython3",
   "version": "3.9.2"
  }
 },
 "nbformat": 4,
 "nbformat_minor": 5
}

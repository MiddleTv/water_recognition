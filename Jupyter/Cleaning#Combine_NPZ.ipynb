{
 "cells": [
  {
   "cell_type": "code",
   "execution_count": 1,
   "id": "028acc0e",
   "metadata": {},
   "outputs": [],
   "source": [
    "import numpy as np"
   ]
  },
  {
   "cell_type": "code",
   "execution_count": 2,
   "id": "1002ad49",
   "metadata": {},
   "outputs": [],
   "source": [
    "def combineNPZ(file_A, file_B):\n",
    "    data_1 = np.load(file_A)\n",
    "    data_2 = np.load(file_B)\n",
    "    arr_0 = np.concatenate([data_1['arr_0'], data_2['arr_0']])\n",
    "    arr_1 = np.concatenate([data_1['arr_1'], data_2['arr_1']])\n",
    "    filename = \"combined_256.npz\"\n",
    "    np.savez_compressed(filename, arr_0, arr_1)\n",
    "    print(filename + \" created!\")"
   ]
  },
  {
   "cell_type": "code",
   "execution_count": 3,
   "id": "5cadfb6f",
   "metadata": {},
   "outputs": [
    {
     "name": "stdout",
     "output_type": "stream",
     "text": [
      "combined_256.npz created!\n"
     ]
    }
   ],
   "source": [
    "filename_A = 'NA_256.npz'\n",
    "filename_B = 'SA_256.npz'\n",
    "combineNPZ(filename_A, filename_B)"
   ]
  },
  {
   "cell_type": "code",
   "execution_count": null,
   "id": "c7dbaf01",
   "metadata": {},
   "outputs": [],
   "source": [
    "# DOES USUALLY TAKE A COUPLE OF MINUTES\n",
    "\n",
    "# MAKE SURE THAT FILES ARE IN THE DIRECTORY OF THE NOTEBOOK SCRIPT,\n",
    "# OR SPECIFY PATH IN FILENAME"
   ]
  }
 ],
 "metadata": {
  "kernelspec": {
   "display_name": "Python 3",
   "language": "python",
   "name": "python3"
  },
  "language_info": {
   "codemirror_mode": {
    "name": "ipython",
    "version": 3
   },
   "file_extension": ".py",
   "mimetype": "text/x-python",
   "name": "python",
   "nbconvert_exporter": "python",
   "pygments_lexer": "ipython3",
   "version": "3.7.10"
  }
 },
 "nbformat": 4,
 "nbformat_minor": 5
}

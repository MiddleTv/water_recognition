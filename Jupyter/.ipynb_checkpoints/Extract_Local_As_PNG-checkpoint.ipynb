{
 "cells": [
  {
   "cell_type": "code",
   "execution_count": 177,
   "id": "6e187cba",
   "metadata": {},
   "outputs": [],
   "source": [
    "import ee\n",
    "import geemap.eefolium as geemap\n",
    "import os\n",
    "import requests\n",
    "import math"
   ]
  },
  {
   "cell_type": "code",
   "execution_count": 178,
   "id": "2d2ba760",
   "metadata": {},
   "outputs": [],
   "source": [
    "def maskL8sr(image):\n",
    "    # Bits 3 and 5 are cloud shadow and cloud, respectively.\n",
    "    cloudShadowBitMask = (1 << 3)\n",
    "    cloudsBitMask = (1 << 5)\n",
    "    # Get the pixel QA band.\n",
    "    qa = image.select('pixel_qa')\n",
    "    # Both flags should be set to zero, indicating clear conditions.\n",
    "    mask = qa.bitwiseAnd(cloudShadowBitMask).eq(0) \\\n",
    "                 .And(qa.bitwiseAnd(cloudsBitMask).eq(0))\n",
    "    return image.updateMask(mask)"
   ]
  },
  {
   "cell_type": "code",
   "execution_count": 179,
   "id": "1d0b5b9f",
   "metadata": {},
   "outputs": [],
   "source": [
    "#MASKING FUNCTION FOR L5 AND L7\n",
    "def cloudMaskL457(image):\n",
    "    qa = image.select('pixel_qa')\n",
    "    # If the cloud bit (5) is set and the cloud confidence (7) is high\n",
    "    # or the cloud shadow bit is set (3), then it's a bad pixel.\n",
    "    cloud = qa.bitwiseAnd(1 << 5) \\\n",
    "                  .And(qa.bitwiseAnd(1 << 7)) \\\n",
    "                  .Or(qa.bitwiseAnd(1 << 3))\n",
    "    # Remove edge pixels that don't occur in all bands\n",
    "    mask2 = image.mask().reduce(ee.Reducer.min())\n",
    "    return image.updateMask(cloud.Not()).updateMask(mask2)"
   ]
  },
  {
   "cell_type": "code",
   "execution_count": 180,
   "id": "96999cd1",
   "metadata": {},
   "outputs": [],
   "source": [
    "def generateLandsatImage(year, roi):\n",
    "    if(year<1999):\n",
    "        dataset_land = ee.ImageCollection('LANDSAT/LT05/C01/T1_SR') \\\n",
    "                      .filterDate(str(year)+'-01-01', str(year)+'-12-31') \\\n",
    "                      .map(cloudMaskL457) \\\n",
    "\n",
    "        image_land = dataset_land.select(['B3', 'B2', 'B1']).median()\n",
    "        land_vis['bands'] = ['B3', 'B2', 'B1']\n",
    "    elif(year<2013):\n",
    "        dataset_land = ee.ImageCollection('LANDSAT/LE07/C01/T1_SR') \\\n",
    "                      .filterDate(str(year)+'-01-01', str(year)+'-12-31') \\\n",
    "                      .map(cloudMaskL457) \\\n",
    "\n",
    "        image_land = dataset_land.select(['B3', 'B2', 'B1']).median()\n",
    "        land_vis['bands'] = ['B3', 'B2', 'B1']\n",
    "    else:\n",
    "        dataset_land = ee.ImageCollection('LANDSAT/LC08/C01/T1_SR') \\\n",
    "                      .filterDate(str(year)+'-01-01', str(year)+'-12-31') \\\n",
    "                      .map(maskL8sr) \\\n",
    "\n",
    "        image_land = dataset_land.select(['B4', 'B3', 'B2']).median()\n",
    "        land_vis['bands'] = [\"B4\",\"B3\",\"B2\"]\n",
    "    url_land = image_land.getThumbURL(land_vis)\n",
    "    return url_land"
   ]
  },
  {
   "cell_type": "code",
   "execution_count": 181,
   "id": "ea2cd709",
   "metadata": {},
   "outputs": [],
   "source": [
    "def generateWaterMapImage(year, roi):\n",
    "    dataset_water = ee.ImageCollection(\"JRC/GSW1_2/YearlyHistory\") \\\n",
    "                      .filterDate(str(year)+'-01-01', str(year)+'-12-31')\n",
    "    image_water = dataset_water.select(['waterClass']).median()\n",
    "    url_water = image_water.getThumbURL(water_vis)\n",
    "    return url_water"
   ]
  },
  {
   "cell_type": "code",
   "execution_count": 182,
   "id": "67fa8168",
   "metadata": {},
   "outputs": [],
   "source": [
    "def exportLocally(URL, fileName):\n",
    "    r = requests.get(URL, stream=True)\n",
    "    out_png = os.path.expanduser('~/Desktop/picture_samples/'+fileName+'.png')\n",
    "\n",
    "    if r.status_code != 200:\n",
    "        print('An error occurred while downloading.')\n",
    "    else:\n",
    "        with open(out_png, 'wb') as fd:\n",
    "            for chunk in r.iter_content(chunk_size=1024):\n",
    "                fd.write(chunk)\n",
    "        print(fileName+ ' created!')"
   ]
  },
  {
   "cell_type": "code",
   "execution_count": 203,
   "id": "15a26f68",
   "metadata": {},
   "outputs": [],
   "source": [
    "#Used for pixel dimension consitency since distance will always be the same\n",
    "def calculatePointB(pointA, distance):\n",
    "    \n",
    "    R = 6378.1 #Radius of the Earth\n",
    "    brng = math.radians(135) #Bearing is 135\n",
    "    d = distance #Distance in km\n",
    "\n",
    "\n",
    "    lat1_rad = math.radians(pointA[1]) #Current lat point converted to radians\n",
    "    lon1_rad = math.radians(pointA[0]) #Current long point converted to radians\n",
    "\n",
    "    lat2_cal = math.asin( math.sin(lat1_rad)*math.cos(d/R) + math.cos(lat1_rad)*math.sin(d/R)*math.cos(brng))\n",
    "\n",
    "    lon2_cal = lon1_rad + math.atan2(math.sin(brng)*math.sin(d/R)*math.cos(lat1_rad),math.cos(d/R)-math.sin(lat1_rad)*math.sin(lat2_cal))\n",
    "\n",
    "    lat2_deg = round(math.degrees(lat2_cal),4)\n",
    "    lon2_deg = round(math.degrees(lon2_cal),4)\n",
    "    print([lon2_deg,lat2_deg])\n",
    "    return([lon2_deg,lat2_deg])"
   ]
  },
  {
   "cell_type": "code",
   "execution_count": 211,
   "id": "e55f955f",
   "metadata": {},
   "outputs": [
    {
     "name": "stdout",
     "output_type": "stream",
     "text": [
      "[29.1394, 54.6615]\n"
     ]
    }
   ],
   "source": [
    "#IMAGE VISUALIZATION PARAMETERS\n",
    "land_vis = {\n",
    "    'gamma': 1.4,\n",
    "    'max': 3000,\n",
    "    'min': 0,\n",
    "    'scale': 5,\n",
    "    'region': roi,\n",
    "    'format': 'png'\n",
    "    }\n",
    "\n",
    "water_vis = {\n",
    "    'bands': ['waterClass'],\n",
    "    'palette': [\"cccccc\",\"ffffff\",\"99d9ea\",\"0000ff\"],\n",
    "    'max': 3,\n",
    "    'min': 0,\n",
    "    'scale': 5,\n",
    "    'region': roi,\n",
    "    'format': 'png'\n",
    "}\n",
    "\n",
    "#REGION OF INTEREST \n",
    "#advice: gee uses [longitude, latitude], usually opposite\n",
    "pointA=[29.0296, 54.7251]\n",
    "\n",
    "setDistanceFromAtoB = 10 #in km\n",
    "\n",
    "pointB= calculatePointB(pointA, setDistanceFromAtoB)\n",
    "\n",
    "roi = ee.Geometry.Rectangle([pointA[0], pointA[1], pointB[0], pointB[1]])\n",
    "\n",
    "#NAMING PURPOSES\n",
    "latitude = str(pointA[0]).replace(\".\",\"-\")\n",
    "longitude = str(pointA[1]).replace(\".\",\"-\")"
   ]
  },
  {
   "cell_type": "code",
   "execution_count": 212,
   "id": "14b651e2",
   "metadata": {},
   "outputs": [
    {
     "name": "stdout",
     "output_type": "stream",
     "text": [
      "[29.0296, 54.7251] [29.1394, 54.6615]\n",
      "29-0296_54-7251_2018_land created!\n",
      "29-0296_54-7251_2018_water created!\n",
      "29-0296_54-7251_2019_land created!\n",
      "29-0296_54-7251_2019_water created!\n"
     ]
    }
   ],
   "source": [
    "##CHANGE FOR NUMBER OF ITERATIONS\n",
    "startYear = 2018 # MAX = 1985, MIN = 2019 ----- MAX 1984 IS POSSIBLE BUT DATA USUALLY NOT THAT GOOD\n",
    "END_YEAR = 2020 # should be 2020 always, change only for testing\n",
    "\n",
    "print(pointA, pointB)\n",
    "\n",
    "for year in range(startYear,2020,1):\n",
    "    fileName = latitude +'_'+ longitude +'_'+ str(year) +'_'\n",
    "    landURL = generateLandsatImage(year, roi)\n",
    "    waterURL = generateWaterMapImage(year, roi)\n",
    "    exportLocally(landURL, fileName+'land')\n",
    "    exportLocally(waterURL, fileName+'water')"
   ]
  },
  {
   "cell_type": "code",
   "execution_count": null,
   "id": "4b128c08",
   "metadata": {},
   "outputs": [],
   "source": []
  }
 ],
 "metadata": {
  "kernelspec": {
   "display_name": "Python 3",
   "language": "python",
   "name": "python3"
  },
  "language_info": {
   "codemirror_mode": {
    "name": "ipython",
    "version": 3
   },
   "file_extension": ".py",
   "mimetype": "text/x-python",
   "name": "python",
   "nbconvert_exporter": "python",
   "pygments_lexer": "ipython3",
   "version": "3.9.2"
  }
 },
 "nbformat": 4,
 "nbformat_minor": 5
}

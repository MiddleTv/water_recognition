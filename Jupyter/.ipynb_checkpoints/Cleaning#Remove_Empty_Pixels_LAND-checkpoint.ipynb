{
 "cells": [
  {
   "cell_type": "code",
   "execution_count": 1,
   "metadata": {},
   "outputs": [
    {
     "name": "stderr",
     "output_type": "stream",
     "text": [
      "Using TensorFlow backend.\n"
     ]
    }
   ],
   "source": [
    "from os import listdir, remove\n",
    "from keras.preprocessing.image import img_to_array\n",
    "from keras.preprocessing.image import load_img\n",
    "from numpy import count_nonzero"
   ]
  },
  {
   "cell_type": "code",
   "execution_count": 2,
   "metadata": {},
   "outputs": [],
   "source": [
    "# load all images in a directory into memory\n",
    "def remove_empty_land_images(lan_path, wat_path, TOTAL_PIXELS=(1280*1280), PERCENTAGE_BOUNDARY= 5):\n",
    "    # enumerate filenames in directory, assume all are images\n",
    "    list_length = len([name for name in listdir(lan_path)])\n",
    "    i = 0\n",
    "    no_data = np.array([0, 0, 0])\n",
    "    for filename in listdir(lan_path):\n",
    "        i = i + 1\n",
    "        try:\n",
    "            # load and image\n",
    "            land_img = load_img(lan_path + filename)\n",
    "            # convert to numpy array\n",
    "            land_arr = img_to_array(land_img)\n",
    "            # calculate percentage of empty pixels compared to whole image\n",
    "            sum_no_data = np.sum(np.all(water_arr == no_data, axis=2))\n",
    "            percentage_empty = (sum_no_data / TOTAL_PIXELS) * 100\n",
    "            # if more than PERCENTAGE_BOUNDARY then remove\n",
    "            if(percentage_empty > PERCENTAGE_BOUNDARY):\n",
    "                remove(lan_path+filename)\n",
    "                remove(wat_path+filename)\n",
    "                print(\"removed: \" + filename)\n",
    "        except:\n",
    "            print(str(filename) + \" ERROR!\")\n",
    "        current = str(i) + \"/\" + str(list_length)\n",
    "        print (current, end = \"\\r\")\n",
    "    return land_arr"
   ]
  },
  {
   "cell_type": "code",
   "execution_count": null,
   "metadata": {
    "scrolled": false
   },
   "outputs": [
    {
     "name": "stdout",
     "output_type": "stream",
     "text": [
      "3608/4824\r"
     ]
    }
   ],
   "source": [
    "# dataset path\n",
    "land_path = './land/'\n",
    "water_path = './water/'\n",
    "# load dataset\n",
    "land_images = remove_empty_land_images(land_path, water_path)"
   ]
  },
  {
   "cell_type": "code",
   "execution_count": null,
   "metadata": {},
   "outputs": [],
   "source": []
  }
 ],
 "metadata": {
  "kernelspec": {
   "display_name": "Python 3",
   "language": "python",
   "name": "python3"
  },
  "language_info": {
   "codemirror_mode": {
    "name": "ipython",
    "version": 3
   },
   "file_extension": ".py",
   "mimetype": "text/x-python",
   "name": "python",
   "nbconvert_exporter": "python",
   "pygments_lexer": "ipython3",
   "version": "3.9.2"
  }
 },
 "nbformat": 4,
 "nbformat_minor": 4
}

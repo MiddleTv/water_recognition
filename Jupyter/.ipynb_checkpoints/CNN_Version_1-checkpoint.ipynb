{
 "cells": [
  {
   "cell_type": "code",
   "execution_count": null,
   "id": "df92cce5",
   "metadata": {},
   "outputs": [],
   "source": [
    "import cv2\n",
    "import numpy as np\n",
    "import os\n",
    "from random import shuffle\n",
    "from tqdm import tqdm\n",
    "import tensorflow as tf\n",
    "import matplotlib.pyplot as plt\n",
    "import tflearn\n",
    "from tflearn.layers.conv import conv_2d, max_pool_2d\n",
    "from tflearn.layers.core import input_data, dropout, fully_connected\n",
    "from tflearn.layers.estimator import regression"
   ]
  },
  {
   "cell_type": "code",
   "execution_count": 2,
   "id": "bf4ca951",
   "metadata": {},
   "outputs": [],
   "source": [
    "TRAIN_DIR = 'train'\n",
    "TEST_DIR = 'test1'\n",
    "IMG_SIZE = 512 #Change once size is agreed on\n",
    "LR = 1e-3\n",
    "MODEL_NAME = 'identify-water-convnet'"
   ]
  },
  {
   "cell_type": "code",
   "execution_count": 5,
   "id": "c750f63b",
   "metadata": {},
   "outputs": [],
   "source": [
    "def create_label(image_name):\n",
    "    word_label = image_name.split('_')[-3]\n",
    "    if word_label == 'water':\n",
    "        return np.array([1,0])\n",
    "    elif word_label == 'land':\n",
    "        return np.array([0,1])"
   ]
  },
  {
   "cell_type": "code",
   "execution_count": 7,
   "id": "bcad6add",
   "metadata": {},
   "outputs": [],
   "source": [
    "def create_train_data():\n",
    "    training_data = []\n",
    "    for img in tqdm(os.listdir(TRAIN_DIR)):\n",
    "        path = os.path.join(TRAIN_DIR, img)\n",
    "        img_data = cv2.resize(img_data, (IMG_SIZE, IMG_SIZE))\n",
    "        training_data.append([np.array(img_data), create_label(img)])\n",
    "    shuffle(training_data)\n",
    "    np.save('train_data.npy', training_data)\n",
    "    return training_data"
   ]
  },
  {
   "cell_type": "code",
   "execution_count": null,
   "id": "9b0b11c7",
   "metadata": {},
   "outputs": [],
   "source": [
    "def create_test_data():\n",
    "    training_data = []\n",
    "    for img in tqdm(os.listdir(TEST_DIR)):\n",
    "        path = os.path.join(TEST_DIR, img)\n",
    "        img_num = img.split('.')[0]\n",
    "        img_data = cv2.resize(img_data, (IMG_SIZE, IMG_SIZE))\n",
    "        testing_data.append([np.array(img_data), create_label(img)])\n",
    "    shuffle(testing_data)\n",
    "    np.save('test_data.npy', testing_data)\n",
    "    return testing_data"
   ]
  }
 ],
 "metadata": {
  "kernelspec": {
   "display_name": "Python 3",
   "language": "python",
   "name": "python3"
  },
  "language_info": {
   "codemirror_mode": {
    "name": "ipython",
    "version": 3
   },
   "file_extension": ".py",
   "mimetype": "text/x-python",
   "name": "python",
   "nbconvert_exporter": "python",
   "pygments_lexer": "ipython3",
   "version": "3.9.2"
  }
 },
 "nbformat": 4,
 "nbformat_minor": 5
}

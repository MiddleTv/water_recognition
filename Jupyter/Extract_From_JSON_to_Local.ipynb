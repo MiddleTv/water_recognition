{
 "cells": [
  {
   "cell_type": "code",
   "execution_count": 1,
   "id": "6af7945d",
   "metadata": {},
   "outputs": [
    {
     "data": {
      "text/html": [
       "<div style=\"width:100%;\"><div style=\"position:relative;width:100%;height:0;padding-bottom:60%;\"><span style=\"color:#565656\">Make this Notebook Trusted to load map: File -> Trust Notebook</span><iframe src=\"about:blank\" style=\"position:absolute;width:100%;height:100%;left:0;top:0;border:none !important;\" data-html=%3C%21DOCTYPE%20html%3E%0A%3Chead%3E%20%20%20%20%0A%20%20%20%20%3Cmeta%20http-equiv%3D%22content-type%22%20content%3D%22text/html%3B%20charset%3DUTF-8%22%20/%3E%0A%20%20%20%20%0A%20%20%20%20%20%20%20%20%3Cscript%3E%0A%20%20%20%20%20%20%20%20%20%20%20%20L_NO_TOUCH%20%3D%20false%3B%0A%20%20%20%20%20%20%20%20%20%20%20%20L_DISABLE_3D%20%3D%20false%3B%0A%20%20%20%20%20%20%20%20%3C/script%3E%0A%20%20%20%20%0A%20%20%20%20%3Cstyle%3Ehtml%2C%20body%20%7Bwidth%3A%20100%25%3Bheight%3A%20100%25%3Bmargin%3A%200%3Bpadding%3A%200%3B%7D%3C/style%3E%0A%20%20%20%20%3Cstyle%3E%23map%20%7Bposition%3Aabsolute%3Btop%3A0%3Bbottom%3A0%3Bright%3A0%3Bleft%3A0%3B%7D%3C/style%3E%0A%20%20%20%20%3Cscript%20src%3D%22https%3A//cdn.jsdelivr.net/npm/leaflet%401.6.0/dist/leaflet.js%22%3E%3C/script%3E%0A%20%20%20%20%3Cscript%20src%3D%22https%3A//code.jquery.com/jquery-1.12.4.min.js%22%3E%3C/script%3E%0A%20%20%20%20%3Cscript%20src%3D%22https%3A//maxcdn.bootstrapcdn.com/bootstrap/3.2.0/js/bootstrap.min.js%22%3E%3C/script%3E%0A%20%20%20%20%3Cscript%20src%3D%22https%3A//cdnjs.cloudflare.com/ajax/libs/Leaflet.awesome-markers/2.0.2/leaflet.awesome-markers.js%22%3E%3C/script%3E%0A%20%20%20%20%3Clink%20rel%3D%22stylesheet%22%20href%3D%22https%3A//cdn.jsdelivr.net/npm/leaflet%401.6.0/dist/leaflet.css%22/%3E%0A%20%20%20%20%3Clink%20rel%3D%22stylesheet%22%20href%3D%22https%3A//maxcdn.bootstrapcdn.com/bootstrap/3.2.0/css/bootstrap.min.css%22/%3E%0A%20%20%20%20%3Clink%20rel%3D%22stylesheet%22%20href%3D%22https%3A//maxcdn.bootstrapcdn.com/bootstrap/3.2.0/css/bootstrap-theme.min.css%22/%3E%0A%20%20%20%20%3Clink%20rel%3D%22stylesheet%22%20href%3D%22https%3A//maxcdn.bootstrapcdn.com/font-awesome/4.6.3/css/font-awesome.min.css%22/%3E%0A%20%20%20%20%3Clink%20rel%3D%22stylesheet%22%20href%3D%22https%3A//cdnjs.cloudflare.com/ajax/libs/Leaflet.awesome-markers/2.0.2/leaflet.awesome-markers.css%22/%3E%0A%20%20%20%20%3Clink%20rel%3D%22stylesheet%22%20href%3D%22https%3A//cdn.jsdelivr.net/gh/python-visualization/folium/folium/templates/leaflet.awesome.rotate.min.css%22/%3E%0A%20%20%20%20%0A%20%20%20%20%20%20%20%20%20%20%20%20%3Cmeta%20name%3D%22viewport%22%20content%3D%22width%3Ddevice-width%2C%0A%20%20%20%20%20%20%20%20%20%20%20%20%20%20%20%20initial-scale%3D1.0%2C%20maximum-scale%3D1.0%2C%20user-scalable%3Dno%22%20/%3E%0A%20%20%20%20%20%20%20%20%20%20%20%20%3Cstyle%3E%0A%20%20%20%20%20%20%20%20%20%20%20%20%20%20%20%20%23map_effc8cdb6081440cb1e0a820137b0481%20%7B%0A%20%20%20%20%20%20%20%20%20%20%20%20%20%20%20%20%20%20%20%20position%3A%20relative%3B%0A%20%20%20%20%20%20%20%20%20%20%20%20%20%20%20%20%20%20%20%20width%3A%20100.0%25%3B%0A%20%20%20%20%20%20%20%20%20%20%20%20%20%20%20%20%20%20%20%20height%3A%20100.0%25%3B%0A%20%20%20%20%20%20%20%20%20%20%20%20%20%20%20%20%20%20%20%20left%3A%200.0%25%3B%0A%20%20%20%20%20%20%20%20%20%20%20%20%20%20%20%20%20%20%20%20top%3A%200.0%25%3B%0A%20%20%20%20%20%20%20%20%20%20%20%20%20%20%20%20%7D%0A%20%20%20%20%20%20%20%20%20%20%20%20%3C/style%3E%0A%20%20%20%20%20%20%20%20%0A%20%20%20%20%3Cscript%20src%3D%22https%3A//cdnjs.cloudflare.com/ajax/libs/leaflet.fullscreen/1.4.2/Control.FullScreen.min.js%22%3E%3C/script%3E%0A%20%20%20%20%3Clink%20rel%3D%22stylesheet%22%20href%3D%22https%3A//cdnjs.cloudflare.com/ajax/libs/leaflet.fullscreen/1.4.2/Control.FullScreen.min.css%22/%3E%0A%3C/head%3E%0A%3Cbody%3E%20%20%20%20%0A%20%20%20%20%0A%20%20%20%20%20%20%20%20%20%20%20%20%3Cdiv%20class%3D%22folium-map%22%20id%3D%22map_effc8cdb6081440cb1e0a820137b0481%22%20%3E%3C/div%3E%0A%20%20%20%20%20%20%20%20%0A%3C/body%3E%0A%3Cscript%3E%20%20%20%20%0A%20%20%20%20%0A%20%20%20%20%20%20%20%20%20%20%20%20var%20map_effc8cdb6081440cb1e0a820137b0481%20%3D%20L.map%28%0A%20%20%20%20%20%20%20%20%20%20%20%20%20%20%20%20%22map_effc8cdb6081440cb1e0a820137b0481%22%2C%0A%20%20%20%20%20%20%20%20%20%20%20%20%20%20%20%20%7B%0A%20%20%20%20%20%20%20%20%20%20%20%20%20%20%20%20%20%20%20%20center%3A%20%5B40.0%2C%20-100.0%5D%2C%0A%20%20%20%20%20%20%20%20%20%20%20%20%20%20%20%20%20%20%20%20crs%3A%20L.CRS.EPSG3857%2C%0A%20%20%20%20%20%20%20%20%20%20%20%20%20%20%20%20%20%20%20%20zoom%3A%204%2C%0A%20%20%20%20%20%20%20%20%20%20%20%20%20%20%20%20%20%20%20%20zoomControl%3A%20true%2C%0A%20%20%20%20%20%20%20%20%20%20%20%20%20%20%20%20%20%20%20%20preferCanvas%3A%20false%2C%0A%20%20%20%20%20%20%20%20%20%20%20%20%20%20%20%20%20%20%20%20eeInitialize%3A%20true%2C%0A%20%20%20%20%20%20%20%20%20%20%20%20%20%20%20%20%20%20%20%20addGoogleMap%3A%20true%2C%0A%20%20%20%20%20%20%20%20%20%20%20%20%20%20%20%20%20%20%20%20pluginLatlngpopup%3A%20true%2C%0A%20%20%20%20%20%20%20%20%20%20%20%20%20%20%20%20%20%20%20%20pluginFullscreen%3A%20true%2C%0A%20%20%20%20%20%20%20%20%20%20%20%20%20%20%20%20%20%20%20%20pluginDraw%3A%20false%2C%0A%20%20%20%20%20%20%20%20%20%20%20%20%20%20%20%20%20%20%20%20DrawExport%3A%20true%2C%0A%20%20%20%20%20%20%20%20%20%20%20%20%20%20%20%20%20%20%20%20pluginMinimap%3A%20false%2C%0A%20%20%20%20%20%20%20%20%20%20%20%20%20%20%20%20%20%20%20%20pluginLayercontrol%3A%20false%2C%0A%20%20%20%20%20%20%20%20%20%20%20%20%20%20%20%20%7D%0A%20%20%20%20%20%20%20%20%20%20%20%20%29%3B%0A%0A%20%20%20%20%20%20%20%20%20%20%20%20%0A%0A%20%20%20%20%20%20%20%20%0A%20%20%20%20%0A%20%20%20%20%20%20%20%20%20%20%20%20var%20tile_layer_107fdf0efc23422c9e3b8c473d922783%20%3D%20L.tileLayer%28%0A%20%20%20%20%20%20%20%20%20%20%20%20%20%20%20%20%22https%3A//%7Bs%7D.tile.openstreetmap.org/%7Bz%7D/%7Bx%7D/%7By%7D.png%22%2C%0A%20%20%20%20%20%20%20%20%20%20%20%20%20%20%20%20%7B%22attribution%22%3A%20%22Data%20by%20%5Cu0026copy%3B%20%5Cu003ca%20href%3D%5C%22http%3A//openstreetmap.org%5C%22%5Cu003eOpenStreetMap%5Cu003c/a%5Cu003e%2C%20under%20%5Cu003ca%20href%3D%5C%22http%3A//www.openstreetmap.org/copyright%5C%22%5Cu003eODbL%5Cu003c/a%5Cu003e.%22%2C%20%22detectRetina%22%3A%20false%2C%20%22maxNativeZoom%22%3A%2018%2C%20%22maxZoom%22%3A%2018%2C%20%22minZoom%22%3A%200%2C%20%22noWrap%22%3A%20false%2C%20%22opacity%22%3A%201%2C%20%22subdomains%22%3A%20%22abc%22%2C%20%22tms%22%3A%20false%7D%0A%20%20%20%20%20%20%20%20%20%20%20%20%29.addTo%28map_effc8cdb6081440cb1e0a820137b0481%29%3B%0A%20%20%20%20%20%20%20%20%0A%20%20%20%20%0A%20%20%20%20%20%20%20%20%20%20%20%20var%20tile_layer_16d12dcd6ab1414eb5d561890299bc9b%20%3D%20L.tileLayer%28%0A%20%20%20%20%20%20%20%20%20%20%20%20%20%20%20%20%22https%3A//mt1.google.com/vt/lyrs%3Dm%5Cu0026x%3D%7Bx%7D%5Cu0026y%3D%7By%7D%5Cu0026z%3D%7Bz%7D%22%2C%0A%20%20%20%20%20%20%20%20%20%20%20%20%20%20%20%20%7B%22attribution%22%3A%20%22Google%22%2C%20%22detectRetina%22%3A%20false%2C%20%22maxNativeZoom%22%3A%2018%2C%20%22maxZoom%22%3A%2018%2C%20%22minZoom%22%3A%200%2C%20%22noWrap%22%3A%20false%2C%20%22opacity%22%3A%201%2C%20%22subdomains%22%3A%20%22abc%22%2C%20%22tms%22%3A%20false%7D%0A%20%20%20%20%20%20%20%20%20%20%20%20%29.addTo%28map_effc8cdb6081440cb1e0a820137b0481%29%3B%0A%20%20%20%20%20%20%20%20%0A%20%20%20%20%0A%20%20%20%20%20%20%20%20%20%20%20%20%20%20%20%20var%20lat_lng_popup_0c44be1da2664ded8673afc6ac6c9689%20%3D%20L.popup%28%29%3B%0A%20%20%20%20%20%20%20%20%20%20%20%20%20%20%20%20function%20latLngPop%28e%29%20%7B%0A%20%20%20%20%20%20%20%20%20%20%20%20%20%20%20%20%20%20%20%20lat_lng_popup_0c44be1da2664ded8673afc6ac6c9689%0A%20%20%20%20%20%20%20%20%20%20%20%20%20%20%20%20%20%20%20%20%20%20%20%20.setLatLng%28e.latlng%29%0A%20%20%20%20%20%20%20%20%20%20%20%20%20%20%20%20%20%20%20%20%20%20%20%20.setContent%28%22Latitude%3A%20%22%20%2B%20e.latlng.lat.toFixed%284%29%20%2B%0A%20%20%20%20%20%20%20%20%20%20%20%20%20%20%20%20%20%20%20%20%20%20%20%20%20%20%20%20%20%20%20%20%20%20%20%20%22%3Cbr%3ELongitude%3A%20%22%20%2B%20e.latlng.lng.toFixed%284%29%29%0A%20%20%20%20%20%20%20%20%20%20%20%20%20%20%20%20%20%20%20%20%20%20%20%20.openOn%28map_effc8cdb6081440cb1e0a820137b0481%29%3B%0A%20%20%20%20%20%20%20%20%20%20%20%20%20%20%20%20%20%20%20%20%7D%0A%20%20%20%20%20%20%20%20%20%20%20%20%20%20%20%20map_effc8cdb6081440cb1e0a820137b0481.on%28%27click%27%2C%20latLngPop%29%3B%0A%20%20%20%20%20%20%20%20%20%20%20%20%0A%20%20%20%20%0A%20%20%20%20%20%20%20%20%20%20%20%20L.control.fullscreen%28%0A%20%20%20%20%20%20%20%20%20%20%20%20%20%20%20%20%7B%22forceSeparateButton%22%3A%20false%2C%20%22position%22%3A%20%22topleft%22%2C%20%22title%22%3A%20%22Full%20Screen%22%2C%20%22titleCancel%22%3A%20%22Exit%20Full%20Screen%22%7D%0A%20%20%20%20%20%20%20%20%20%20%20%20%29.addTo%28map_effc8cdb6081440cb1e0a820137b0481%29%3B%0A%20%20%20%20%20%20%20%20%0A%20%20%20%20%0A%20%20%20%20%20%20%20%20%20%20%20%20map_effc8cdb6081440cb1e0a820137b0481.fitBounds%28%0A%20%20%20%20%20%20%20%20%20%20%20%20%20%20%20%20%5B%5B40%2C%20-100%5D%2C%20%5B40%2C%20-100%5D%5D%2C%0A%20%20%20%20%20%20%20%20%20%20%20%20%20%20%20%20%7B%22maxZoom%22%3A%204%7D%0A%20%20%20%20%20%20%20%20%20%20%20%20%29%3B%0A%20%20%20%20%20%20%20%20%0A%20%20%20%20%0A%20%20%20%20%20%20%20%20%20%20%20%20var%20layer_control_020b82c8c7604823bca305e2a5e02106%20%3D%20%7B%0A%20%20%20%20%20%20%20%20%20%20%20%20%20%20%20%20base_layers%20%3A%20%7B%0A%20%20%20%20%20%20%20%20%20%20%20%20%20%20%20%20%20%20%20%20%22openstreetmap%22%20%3A%20tile_layer_107fdf0efc23422c9e3b8c473d922783%2C%0A%20%20%20%20%20%20%20%20%20%20%20%20%20%20%20%20%7D%2C%0A%20%20%20%20%20%20%20%20%20%20%20%20%20%20%20%20overlays%20%3A%20%20%7B%0A%20%20%20%20%20%20%20%20%20%20%20%20%20%20%20%20%20%20%20%20%22Google%20Maps%22%20%3A%20tile_layer_16d12dcd6ab1414eb5d561890299bc9b%2C%0A%20%20%20%20%20%20%20%20%20%20%20%20%20%20%20%20%7D%2C%0A%20%20%20%20%20%20%20%20%20%20%20%20%7D%3B%0A%20%20%20%20%20%20%20%20%20%20%20%20L.control.layers%28%0A%20%20%20%20%20%20%20%20%20%20%20%20%20%20%20%20layer_control_020b82c8c7604823bca305e2a5e02106.base_layers%2C%0A%20%20%20%20%20%20%20%20%20%20%20%20%20%20%20%20layer_control_020b82c8c7604823bca305e2a5e02106.overlays%2C%0A%20%20%20%20%20%20%20%20%20%20%20%20%20%20%20%20%7B%22autoZIndex%22%3A%20true%2C%20%22collapsed%22%3A%20true%2C%20%22position%22%3A%20%22topright%22%7D%0A%20%20%20%20%20%20%20%20%20%20%20%20%29.addTo%28map_effc8cdb6081440cb1e0a820137b0481%29%3B%0A%20%20%20%20%20%20%20%20%0A%3C/script%3E onload=\"this.contentDocument.open();this.contentDocument.write(    decodeURIComponent(this.getAttribute('data-html')));this.contentDocument.close();\" allowfullscreen webkitallowfullscreen mozallowfullscreen></iframe></div></div>"
      ],
      "text/plain": [
       "<geemap.eefolium.Map at 0x7fc0783873a0>"
      ]
     },
     "execution_count": 1,
     "metadata": {},
     "output_type": "execute_result"
    }
   ],
   "source": [
    "import ee\n",
    "import geemap.eefolium as geemap\n",
    "import os\n",
    "import requests\n",
    "import math\n",
    "import json\n",
    "\n",
    "Map = geemap.Map()\n",
    "Map"
   ]
  },
  {
   "cell_type": "code",
   "execution_count": 2,
   "id": "be35a63f",
   "metadata": {},
   "outputs": [],
   "source": [
    "def maskL8sr(image):\n",
    "    # Bits 3 and 5 are cloud shadow and cloud, respectively.\n",
    "    cloudShadowBitMask = (1 << 3)\n",
    "    cloudsBitMask = (1 << 5)\n",
    "    # Get the pixel QA band.\n",
    "    qa = image.select('pixel_qa')\n",
    "    # Both flags should be set to zero, indicating clear conditions.\n",
    "    mask = qa.bitwiseAnd(cloudShadowBitMask).eq(0) \\\n",
    "                 .And(qa.bitwiseAnd(cloudsBitMask).eq(0))\n",
    "    return image.updateMask(mask)"
   ]
  },
  {
   "cell_type": "code",
   "execution_count": 3,
   "id": "c4e343cf",
   "metadata": {},
   "outputs": [],
   "source": [
    "#MASKING FUNCTION FOR L5 AND L7\n",
    "def cloudMaskL457(image):\n",
    "    qa = image.select('pixel_qa')\n",
    "    # If the cloud bit (5) is set and the cloud confidence (7) is high\n",
    "    # or the cloud shadow bit is set (3), then it's a bad pixel.\n",
    "    cloud = qa.bitwiseAnd(1 << 5) \\\n",
    "                  .And(qa.bitwiseAnd(1 << 7)) \\\n",
    "                  .Or(qa.bitwiseAnd(1 << 3))\n",
    "    # Remove edge pixels that don't occur in all bands\n",
    "    mask2 = image.mask().reduce(ee.Reducer.min())\n",
    "    return image.updateMask(cloud.Not()).updateMask(mask2)"
   ]
  },
  {
   "cell_type": "code",
   "execution_count": 12,
   "id": "fb079cfc",
   "metadata": {},
   "outputs": [],
   "source": [
    "def generateLandsatImage(year):\n",
    "    if(year<1999):\n",
    "        dataset_land = ee.ImageCollection('LANDSAT/LT05/C01/T1_SR') \\\n",
    "                      .filterDate(str(year)+'-01-01', str(year)+'-12-31') \\\n",
    "                      .map(cloudMaskL457) \\\n",
    "\n",
    "        image_land = dataset_land.select(['B3', 'B2', 'B1']).median()\n",
    "        land_vis['bands'] = ['B3', 'B2', 'B1']\n",
    "    elif(year<2013):\n",
    "        dataset_land = ee.ImageCollection('LANDSAT/LE07/C01/T1_SR') \\\n",
    "                      .filterDate(str(year)+'-01-01', str(year)+'-12-31') \\\n",
    "                      .map(cloudMaskL457) \\\n",
    "\n",
    "        image_land = dataset_land.select(['B3', 'B2', 'B1']).median()\n",
    "        land_vis['bands'] = ['B3', 'B2', 'B1']\n",
    "    else:\n",
    "        dataset_land = ee.ImageCollection('LANDSAT/LC08/C01/T1_SR') \\\n",
    "                      .filterDate(str(year)+'-01-01', str(year)+'-12-31') \\\n",
    "                      .map(maskL8sr) \\\n",
    "\n",
    "        image_land = dataset_land.select(['B4', 'B3', 'B2']).median()\n",
    "        land_vis['bands'] = [\"B4\",\"B3\",\"B2\"]\n",
    "\n",
    "    url_land = image_land.getThumbURL(land_vis)\n",
    "    return url_land"
   ]
  },
  {
   "cell_type": "code",
   "execution_count": 5,
   "id": "f8cd11e4",
   "metadata": {},
   "outputs": [],
   "source": [
    "def generateWaterMapImage(year):\n",
    "    dataset_water = ee.ImageCollection(\"JRC/GSW1_2/YearlyHistory\") \\\n",
    "                      .filterDate(str(year)+'-01-01', str(year)+'-12-31')\n",
    "    image_water = dataset_water.select(['waterClass']).median()\n",
    "    url_water = image_water.getThumbURL(water_vis)\n",
    "    return url_water"
   ]
  },
  {
   "cell_type": "code",
   "execution_count": 6,
   "id": "5cf32dc5",
   "metadata": {},
   "outputs": [],
   "source": [
    "def exportLocally(URL, fileName):\n",
    "    r = requests.get(URL, stream=True)\n",
    "    out_png = os.path.expanduser('~/Desktop/picture_samples/'+fileName+'.png')\n",
    "\n",
    "    if r.status_code != 200:\n",
    "        print('An error occurred while downloading.')\n",
    "    else:\n",
    "        with open(out_png, 'wb') as fd:\n",
    "            for chunk in r.iter_content(chunk_size=1024):\n",
    "                fd.write(chunk)\n",
    "        print(fileName+ ' created!')"
   ]
  },
  {
   "cell_type": "code",
   "execution_count": 8,
   "id": "a58274e0",
   "metadata": {},
   "outputs": [],
   "source": [
    "def generatePhotos(lat, lng, startY, endY):\n",
    "    for year in range(startY,endY,1):\n",
    "        fileName = str(lat) +'_'+ str(lng) +'_'+ str(year) +'_'\n",
    "        landURL = generateLandsatImage(year)\n",
    "        waterURL = generateWaterMapImage(year)\n",
    "        exportLocally(landURL, fileName+'land')\n",
    "        exportLocally(waterURL, fileName+'water')"
   ]
  },
  {
   "cell_type": "code",
   "execution_count": 9,
   "id": "aae4ecc3",
   "metadata": {},
   "outputs": [],
   "source": [
    "##CHANGE FOR NUMBER OF ITERATIONS\n",
    "START_YEAR = 2018 # MAX = 1985, MIN = 2019 ----- MAX 1984 IS POSSIBLE BUT DATA USUALLY NOT THAT GOOD\n",
    "END_YEAR = 2020 # should be 2020 always, change only for testing"
   ]
  },
  {
   "cell_type": "code",
   "execution_count": 18,
   "id": "b801aee5",
   "metadata": {},
   "outputs": [
    {
     "name": "stdout",
     "output_type": "stream",
     "text": [
      "-3.7957_-38.9734_2018_land created!\n",
      "-3.7957_-38.9734_2018_water created!\n",
      "-3.7957_-38.9734_2019_land created!\n",
      "-3.7957_-38.9734_2019_water created!\n",
      "-3.9245_-38.5656_2018_land created!\n",
      "-3.9245_-38.5656_2018_water created!\n",
      "-3.9245_-38.5656_2019_land created!\n",
      "-3.9245_-38.5656_2019_water created!\n",
      "-4.0725_-38.5477_2018_land created!\n",
      "-4.0725_-38.5477_2018_water created!\n",
      "-4.0725_-38.5477_2019_land created!\n",
      "-4.0725_-38.5477_2019_water created!\n",
      "-4.2341_-38.4186_2018_land created!\n",
      "-4.2341_-38.4186_2018_water created!\n",
      "-4.2341_-38.4186_2019_land created!\n",
      "-4.2341_-38.4186_2019_water created!\n",
      "-4.0875_-39.4555_2018_land created!\n",
      "-4.0875_-39.4555_2018_water created!\n",
      "-4.0875_-39.4555_2019_land created!\n",
      "-4.0875_-39.4555_2019_water created!\n",
      "-3.7697_-39.3786_2018_land created!\n",
      "-3.7697_-39.3786_2018_water created!\n",
      "-3.7697_-39.3786_2019_land created!\n",
      "-3.7697_-39.3786_2019_water created!\n"
     ]
    }
   ],
   "source": [
    "with open('../ReactJs/src/test.json') as json_file:\n",
    "    data = json.load(json_file)\n",
    "    for coords in data:\n",
    "        \n",
    "        #THIS SHOULD BE LATITUDE, LONGITUDE, LATITUDE, LONGITUDE\n",
    "        #BUT FOR SOME BLOODY REASON ee TAKES THE REVERSE ????\n",
    "        roi = ee.Geometry.Rectangle([coords['west'], coords['north'], coords['east'], coords['south']])\n",
    "\n",
    "        #IMAGE VISUALIZATION PARAMETERS\n",
    "        land_vis = {\n",
    "            'gamma': 1.4,\n",
    "            'max': 3000,\n",
    "            'min': 0,\n",
    "            'scale': 10,\n",
    "            'region': roi,\n",
    "            'format': 'png'\n",
    "            }\n",
    "\n",
    "        water_vis = {\n",
    "            'bands': ['waterClass'],\n",
    "            'palette': [\"cccccc\",\"ffffff\",\"99d9ea\",\"0000ff\"],\n",
    "            'max': 3,\n",
    "            'min': 0,\n",
    "            'scale': 10,\n",
    "            'region': roi,\n",
    "            'format': 'png'\n",
    "        }\n",
    "    \n",
    "        generatePhotos(round(coords['latitude'],4), round(coords['longitude'],4), START_YEAR, END_YEAR)"
   ]
  },
  {
   "cell_type": "code",
   "execution_count": null,
   "id": "296fb11d",
   "metadata": {},
   "outputs": [],
   "source": []
  }
 ],
 "metadata": {
  "kernelspec": {
   "display_name": "Python 3",
   "language": "python",
   "name": "python3"
  },
  "language_info": {
   "codemirror_mode": {
    "name": "ipython",
    "version": 3
   },
   "file_extension": ".py",
   "mimetype": "text/x-python",
   "name": "python",
   "nbconvert_exporter": "python",
   "pygments_lexer": "ipython3",
   "version": "3.9.2"
  }
 },
 "nbformat": 4,
 "nbformat_minor": 5
}

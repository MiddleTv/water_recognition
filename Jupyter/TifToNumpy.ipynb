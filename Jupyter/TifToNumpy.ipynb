{
 "cells": [
  {
   "cell_type": "code",
   "execution_count": 1,
   "id": "f60a944b",
   "metadata": {},
   "outputs": [],
   "source": [
    "import glob, os, numpy\n",
    "from osgeo import gdal"
   ]
  },
  {
   "cell_type": "code",
   "execution_count": 2,
   "id": "0c285a94",
   "metadata": {},
   "outputs": [],
   "source": [
    "os.chdir(\"../tif\")\n",
    "tif_list=glob.glob(\"*.tif\")"
   ]
  },
  {
   "cell_type": "code",
   "execution_count": 3,
   "id": "51d0975f",
   "metadata": {},
   "outputs": [
    {
     "name": "stdout",
     "output_type": "stream",
     "text": [
      "test3.tif band number 1\n",
      "shape: (2042, 1982)\n",
      "[[65 65 65 ... 46 47 47]\n",
      " [67 67 68 ... 46 47 47]\n",
      " [71 71 71 ... 47 47 47]\n",
      " ...\n",
      " [54 69 69 ... 46 46 50]\n",
      " [65 67 67 ... 44 44 46]\n",
      " [47 51 51 ... 44 44 46]]\n",
      "===============================\n",
      "test3.tif band number 2\n",
      "shape: (2042, 1982)\n",
      "[[59 59 59 ... 56 55 55]\n",
      " [61 61 62 ... 55 55 55]\n",
      " [65 65 65 ... 55 55 55]\n",
      " ...\n",
      " [65 69 69 ... 65 65 72]\n",
      " [80 77 77 ... 58 58 63]\n",
      " [56 60 60 ... 60 60 63]]\n",
      "===============================\n",
      "test3.tif band number 3\n",
      "shape: (2042, 1982)\n",
      "[[40 40 41 ... 47 47 47]\n",
      " [42 42 42 ... 48 47 47]\n",
      " [43 43 45 ... 47 47 47]\n",
      " ...\n",
      " [41 46 46 ... 38 38 42]\n",
      " [50 51 51 ... 38 38 40]\n",
      " [38 39 39 ... 38 38 39]]\n",
      "===============================\n",
      "visualization.tif band number 1\n",
      "shape: (2042, 1982)\n",
      "[[0 0 0 ... 0 0 0]\n",
      " [0 0 0 ... 0 0 0]\n",
      " [0 0 0 ... 0 0 0]\n",
      " ...\n",
      " [0 0 0 ... 0 0 0]\n",
      " [0 0 0 ... 0 0 0]\n",
      " [0 0 0 ... 0 0 0]]\n",
      "===============================\n",
      "visualization.tif band number 2\n",
      "shape: (2042, 1982)\n",
      "[[0 0 0 ... 0 0 0]\n",
      " [0 0 0 ... 0 0 0]\n",
      " [0 0 0 ... 0 0 0]\n",
      " ...\n",
      " [0 0 0 ... 0 0 0]\n",
      " [0 0 0 ... 0 0 0]\n",
      " [0 0 0 ... 0 0 0]]\n",
      "===============================\n",
      "visualization.tif band number 3\n",
      "shape: (2042, 1982)\n",
      "[[  0   0   0 ... 255 255 255]\n",
      " [  0   0   0 ... 255 255 255]\n",
      " [  0   0   0 ... 255 255 255]\n",
      " ...\n",
      " [  0   0   0 ...   0   0   0]\n",
      " [  0   0   0 ...   0   0   0]\n",
      " [  0   0   0 ...   0   0   0]]\n",
      "===============================\n"
     ]
    }
   ],
   "source": [
    "for tif in tif_list:\n",
    "    ds = gdal.Open(tif)\n",
    "    for count in range(1,1+ds.RasterCount):\n",
    "        print(\"{} band number {}\".format(tif,count))\n",
    "        print(\"shape: {}\".format(ds.GetRasterBand(count).ReadAsArray().shape))\n",
    "        print(ds.GetRasterBand(count).ReadAsArray())\n",
    "        print(\"===============================\")"
   ]
  },
  {
   "cell_type": "code",
   "execution_count": null,
   "id": "0fa6261a",
   "metadata": {},
   "outputs": [],
   "source": []
  }
 ],
 "metadata": {
  "kernelspec": {
   "display_name": "water-recognition-env",
   "language": "python",
   "name": "water-recognition-env"
  },
  "language_info": {
   "codemirror_mode": {
    "name": "ipython",
    "version": 3
   },
   "file_extension": ".py",
   "mimetype": "text/x-python",
   "name": "python",
   "nbconvert_exporter": "python",
   "pygments_lexer": "ipython3",
   "version": "3.8.8"
  }
 },
 "nbformat": 4,
 "nbformat_minor": 5
}

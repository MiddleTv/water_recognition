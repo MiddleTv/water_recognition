{
 "cells": [
  {
   "cell_type": "code",
   "execution_count": 1,
   "id": "1965d539",
   "metadata": {},
   "outputs": [],
   "source": [
    "# example of pix2pix gan for satellite to map image-to-image translation\n",
    "from numpy import load\n",
    "from numpy import zeros\n",
    "from numpy import ones\n",
    "from numpy.random import randint\n",
    "from keras.optimizers import Adam\n",
    "from keras.initializers import RandomNormal\n",
    "from keras.models import Model\n",
    "from keras.models import Input\n",
    "from keras.layers import Conv2D\n",
    "from keras.layers import Conv2DTranspose\n",
    "from keras.layers import LeakyReLU\n",
    "from keras.layers import Activation\n",
    "from keras.layers import Concatenate\n",
    "from keras.layers import Dropout\n",
    "from keras.layers import BatchNormalization\n",
    "from keras.layers import LeakyReLU\n",
    "from matplotlib import pyplot\n",
    "from os import listdir\n",
    "from numpy import asarray\n",
    "from numpy import vstack\n",
    "from keras.preprocessing.image import img_to_array\n",
    "from keras.preprocessing.image import load_img\n",
    "from numpy import savez_compressed"
   ]
  },
  {
   "cell_type": "code",
   "execution_count": 2,
   "id": "28b3728c",
   "metadata": {},
   "outputs": [],
   "source": [
    "# load all images in a directory into memory\n",
    "def load_images(lan_path, wat_path, size=(256,256)):\n",
    "    land_list, water_list = list(), list()\n",
    "    # enumerate filenames in directory, assume all are images\n",
    "    list_length = len([name for name in listdir(lan_path)])\n",
    "    i = 0\n",
    "    for filename in listdir(lan_path):\n",
    "        i = i + 1\n",
    "        try:\n",
    "            # load and resize the image\n",
    "            water_img = load_img(wat_path + filename, target_size=size)\n",
    "            land_img = load_img(lan_path + filename, target_size=size)\n",
    "            # convert to numpy array\n",
    "            water_arr = img_to_array(water_img)\n",
    "            land_arr = img_to_array(land_img)\n",
    "            # add to list\n",
    "            land_list.append(land_arr)\n",
    "            water_list.append(water_arr)\n",
    "        except:\n",
    "            print(str(filename) + \" not found\")\n",
    "        current = str(i) + \"/\" + str(list_length)\n",
    "        print (current, end = \"\\r\")\n",
    "    return [asarray(land_list), asarray(water_list)]"
   ]
  },
  {
   "cell_type": "code",
   "execution_count": null,
   "id": "8c24d5a3",
   "metadata": {},
   "outputs": [
    {
     "name": "stdout",
     "output_type": "stream",
     "text": [
      "40.4711_-98.1515_2016.png not found\n",
      "53.9317_-100.6172_2017.png not found\n",
      "30.9031_-84.3189_2008.png not found\n",
      "-30.1435_-60.6569_2014.png not found\n",
      "53.9701_-100.581_1998.png not found\n",
      "38.1502_-104.4_2014.png not found\n",
      "-8.4298_-74.4364_1991.png not found\n",
      "13.8299_-88.5033_1999.png not found\n",
      "14.1574_-83.5562_2006.png not found\n",
      "-26.6841_-67.6981_1991.png not found\n",
      "-21.1458_-45.9713_2008.png not found\n",
      "30.9805_-84.4289_1995.png not found\n",
      "-8.8136_-39.8149_2010.png not found\n",
      "53.926_-100.5719_2013.png not found\n",
      "13.9539_-89.0133_2009.png not found\n",
      "33.1753_-96.943_2015.png not found\n",
      "-44.5828_-66.6943_1998.png not found\n",
      "38.1412_-77.0796_2001.png not found\n",
      "7.8008_-62.67_2017.png not found\n",
      "33.2549_-107.1659_1995.png not found\n",
      "-31.7386_-66.8724_1999.png not found\n",
      "40.1996_-110.4467_1989.png not found\n",
      "44.3621_-116.562_1993.png not found\n",
      "40.8053_-95.8403_2018.png not found\n",
      "-21.4585_-45.6122_2011.png not found\n",
      "-21.0465_-46.064_2005.png not found\n",
      "13.9706_-88.8046_1992.png not found\n",
      "40.7364_-96.1946_1988.png not found\n",
      "13.78_-89.3556_2004.png not found\n",
      "1318/9299\r"
     ]
    }
   ],
   "source": [
    "# dataset path\n",
    "land_path = '../../../../picture_samples/land/'\n",
    "water_path = '../../../../picture_samples/water/'\n",
    "\n",
    "# load dataset\n",
    "[land_images, water_images] = load_images(land_path, water_path)\n",
    "print('Loaded: ', land_images.shape, water_images.shape)\n",
    "# save as compressed numpy array\n",
    "filename = 'points_256.npz'\n",
    "savez_compressed(filename, land_images, water_images)\n",
    "print('Saved dataset: ', filename)"
   ]
  },
  {
   "cell_type": "code",
   "execution_count": null,
   "id": "22c8405e",
   "metadata": {},
   "outputs": [],
   "source": []
  }
 ],
 "metadata": {
  "kernelspec": {
   "display_name": "Python 3",
   "language": "python",
   "name": "python3"
  },
  "language_info": {
   "codemirror_mode": {
    "name": "ipython",
    "version": 3
   },
   "file_extension": ".py",
   "mimetype": "text/x-python",
   "name": "python",
   "nbconvert_exporter": "python",
   "pygments_lexer": "ipython3",
   "version": "3.9.2"
  }
 },
 "nbformat": 4,
 "nbformat_minor": 5
}

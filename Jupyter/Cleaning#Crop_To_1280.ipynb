{
 "cells": [
  {
   "cell_type": "code",
   "execution_count": null,
   "id": "7eb705ef",
   "metadata": {},
   "outputs": [],
   "source": [
    "from PIL import Image\n",
    "from os import listdir\n",
    "from numpy import asarray\n",
    "from keras.preprocessing.image import img_to_array\n",
    "from keras.preprocessing.image import load_img\n",
    "from numpy import savez_compressed"
   ]
  },
  {
   "cell_type": "code",
   "execution_count": null,
   "id": "ac410738",
   "metadata": {},
   "outputs": [],
   "source": [
    "def getCropDimensions(width, height, GOAL_SIZE = 1280):\n",
    "    left = (width - GOAL_SIZE) / 2\n",
    "    top = (height - GOAL_SIZE) / 2\n",
    "    right = GOAL_SIZE + left\n",
    "    bottom = GOAL_SIZE + top\n",
    "    return left, top, right, bottom"
   ]
  },
  {
   "cell_type": "code",
   "execution_count": null,
   "id": "72ef3e4d",
   "metadata": {},
   "outputs": [],
   "source": [
    "def exportPhotos(photo, fileName):\n",
    "    r = photo\n",
    "    out_png = os.path.expanduser('~/Desktop/water /'+fileName+'.png')\n",
    "    if r.status_code != 200:\n",
    "        print('An error occurred while downloading.')\n",
    "    else:\n",
    "        with open(out_png, 'wb') as fd:\n",
    "            for chunk in r.iter_content(chunk_size=1024):\n",
    "                fd.write(chunk)\n",
    "        print(fileName+ ' created!')"
   ]
  },
  {
   "cell_type": "code",
   "execution_count": null,
   "id": "c6a578e9",
   "metadata": {},
   "outputs": [],
   "source": [
    "# load all images in a directory into memory\n",
    "def crop_images(lan_path, wat_path, size=(256,256)):\n",
    "    land_list, water_list = list(), list()\n",
    "    # enumerate filenames in directory, assume all are images\n",
    "    list_length = len([name for name in listdir(lan_path)])\n",
    "    i = 0\n",
    "    for filename in listdir(lan_path):\n",
    "        i = i + 1\n",
    "        try:\n",
    "            # load and resize the image\n",
    "            water_img = Image.open(wat_path + filename)\n",
    "            land_img = Image.open(lan_path + filename)\n",
    "            width, height = land_img.size\n",
    "            left, top, right, bottom = getCropDimensions(width, height)\n",
    "            land_img_crop = land_img.crop((left, top, right, bottom))\n",
    "            water_img_crop = water_img.crop((left, top, right, bottom))\n",
    "            land_img_crop.save(\"./crop_land/\"+ filename, format=\"png\")\n",
    "            water_img_crop.save(\"./crop_water/\"+ filename, format=\"png\")\n",
    "        except:\n",
    "            print(str(filename) + \" not found\")\n",
    "        current = str(i) + \"/\" + str(list_length)\n",
    "        print (current, end = \"\\r\")\n",
    "    return \"done\""
   ]
  },
  {
   "cell_type": "code",
   "execution_count": null,
   "id": "e852ea6d",
   "metadata": {},
   "outputs": [],
   "source": [
    "# dataset path\n",
    "land_path = './land/'\n",
    "water_path = './water/'\n",
    "\n",
    "# load dataset\n",
    "message = crop_images(land_path, water_path)\n",
    "print(message)"
   ]
  },
  {
   "cell_type": "code",
   "execution_count": null,
   "id": "70f569b7",
   "metadata": {},
   "outputs": [],
   "source": [
    "# THIS IS USUALLY VERY FAST\n",
    "\n",
    "# MAKE SURE ALL IMAGES THAT YOU WANT TO CROP ARE IN THE 'WATER' AND 'LAND' FOLDERS\n",
    "# MAKE SURE TO CREATE 'CROP_WATER' AND 'CROP_LAND' TO STORE CROPPED IMAGES\n"
   ]
  }
 ],
 "metadata": {
  "kernelspec": {
   "display_name": "Python 3",
   "language": "python",
   "name": "python3"
  },
  "language_info": {
   "codemirror_mode": {
    "name": "ipython",
    "version": 3
   },
   "file_extension": ".py",
   "mimetype": "text/x-python",
   "name": "python",
   "nbconvert_exporter": "python",
   "pygments_lexer": "ipython3",
   "version": "3.7.10"
  }
 },
 "nbformat": 4,
 "nbformat_minor": 5
}

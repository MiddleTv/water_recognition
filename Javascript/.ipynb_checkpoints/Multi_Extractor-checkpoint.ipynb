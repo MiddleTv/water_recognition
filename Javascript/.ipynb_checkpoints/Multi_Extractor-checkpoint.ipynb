{
 "cells": [
  {
   "cell_type": "markdown",
   "metadata": {},
   "source": [
    "<table class=\"ee-notebook-buttons\" align=\"left\">\n",
    "    <td><a target=\"_blank\"  href=\"https://github.com/giswqs/geemap/tree/master/examples/template/template.ipynb\"><img width=32px src=\"https://www.tensorflow.org/images/GitHub-Mark-32px.png\" /> View source on GitHub</a></td>\n",
    "    <td><a target=\"_blank\"  href=\"https://nbviewer.jupyter.org/github/giswqs/geemap/blob/master/examples/template/template.ipynb\"><img width=26px src=\"https://upload.wikimedia.org/wikipedia/commons/thumb/3/38/Jupyter_logo.svg/883px-Jupyter_logo.svg.png\" />Notebook Viewer</a></td>\n",
    "    <td><a target=\"_blank\"  href=\"https://colab.research.google.com/github/giswqs/geemap/blob/master/examples/template/template.ipynb\"><img src=\"https://www.tensorflow.org/images/colab_logo_32px.png\" /> Run in Google Colab</a></td>\n",
    "</table>"
   ]
  },
  {
   "cell_type": "markdown",
   "metadata": {},
   "source": [
    "## Install Earth Engine API and geemap\n",
    "Install the [Earth Engine Python API](https://developers.google.com/earth-engine/python_install) and [geemap](https://geemap.org). The **geemap** Python package is built upon the [ipyleaflet](https://github.com/jupyter-widgets/ipyleaflet) and [folium](https://github.com/python-visualization/folium) packages and implements several methods for interacting with Earth Engine data layers, such as `Map.addLayer()`, `Map.setCenter()`, and `Map.centerObject()`.\n",
    "The following script checks if the geemap package has been installed. If not, it will install geemap, which automatically installs its [dependencies](https://github.com/giswqs/geemap#dependencies), including earthengine-api, folium, and ipyleaflet."
   ]
  },
  {
   "cell_type": "code",
   "execution_count": 1,
   "metadata": {},
   "outputs": [],
   "source": [
    "# Installs geemap package\n",
    "import subprocess\n",
    "\n",
    "try:\n",
    "    import geemap\n",
    "except ImportError:\n",
    "    print(\"Installing geemap ...\")\n",
    "    subprocess.check_call([\"python\", \"-m\", \"pip\", \"install\", \"geemap\"])"
   ]
  },
  {
   "cell_type": "code",
   "execution_count": 2,
   "metadata": {},
   "outputs": [],
   "source": [
    "import ee\n",
    "import geemap"
   ]
  },
  {
   "cell_type": "markdown",
   "metadata": {},
   "source": [
    "## Create an interactive map \n",
    "The default basemap is `Google Maps`. [Additional basemaps](https://github.com/giswqs/geemap/blob/master/geemap/basemaps.py) can be added using the `Map.add_basemap()` function. "
   ]
  },
  {
   "cell_type": "code",
   "execution_count": null,
   "metadata": {},
   "outputs": [],
   "source": [
    "Map = geemap.Map(center=[40, -100], zoom=4)\n",
    "Map"
   ]
  },
  {
   "cell_type": "markdown",
   "metadata": {},
   "source": [
    "## Add Earth Engine Python script "
   ]
  },
  {
   "cell_type": "code",
   "execution_count": 3,
   "metadata": {},
   "outputs": [
    {
     "ename": "SyntaxError",
     "evalue": "invalid syntax (<ipython-input-3-d8c3b74b822a>, line 39)",
     "output_type": "error",
     "traceback": [
      "\u001b[0;36m  File \u001b[0;32m\"<ipython-input-3-d8c3b74b822a>\"\u001b[0;36m, line \u001b[0;32m39\u001b[0m\n\u001b[0;31m    if(year<1999){\u001b[0m\n\u001b[0m                 ^\u001b[0m\n\u001b[0;31mSyntaxError\u001b[0m\u001b[0;31m:\u001b[0m invalid syntax\n"
     ]
    }
   ],
   "source": [
    "# Add Earth Engine dataset\n",
    "#MASKING FUNCTION FOR L8\n",
    "def maskL8sr(image):\n",
    "  # Bits 3 and 5 are cloud shadow and cloud, respectively.\n",
    "  cloudShadowBitMask = (1 << 3)\n",
    "  cloudsBitMask = (1 << 5)\n",
    "  # Get the pixel QA band.\n",
    "  qa = image.select('pixel_qa')\n",
    "  # Both flags should be set to zero, indicating clear conditions.\n",
    "  mask = qa.bitwiseAnd(cloudShadowBitMask).eq(0) \\\n",
    "                 .And(qa.bitwiseAnd(cloudsBitMask).eq(0))\n",
    "  return image.updateMask(mask)\n",
    "\n",
    "\n",
    "#MASKING FUNCTION FOR L5 AND L7\n",
    "def cloudMaskL457(image):\n",
    "  qa = image.select('pixel_qa')\n",
    "  # If the cloud bit (5) is set and the cloud confidence (7) is high\n",
    "  # or the cloud shadow bit is set (3), then it's a bad pixel.\n",
    "  cloud = qa.bitwiseAnd(1 << 5) \\\n",
    "                  .And(qa.bitwiseAnd(1 << 7)) \\\n",
    "                  .Or(qa.bitwiseAnd(1 << 3))\n",
    "  # Remove edge pixels that don't occur in all bands\n",
    "  mask2 = image.mask().reduce(ee.Reducer.min())\n",
    "  return image.updateMask(cloud.Not()).updateMask(mask2)\n",
    "\n",
    "\n",
    "#setting variables\n",
    "pointA = [12.37558, 45.51725]\n",
    "pointB = [12.46914, 45.47393]\n",
    "center = [((pointA[0]+pointB[0])/2).toString().replace(\".\", \"-\"), ((pointA[1]+pointB[1])/2).toString().replace(\".\", \"-\")]\n",
    "\n",
    "region = ee.Geometry.Rectangle([pointA[0], pointA[1], pointB[0], pointB[1]])\n",
    "folder = \"Test_Folder\"\n",
    "scale = 30\n",
    "\n",
    "def exportLandsatImage(year):\n",
    "  dataset, image, vis\n",
    "  if year<1999:\n",
    "    dataset = ee.ImageCollection('LANDSAT/LT05/C01/T1_SR') \\\n",
    "                  .filterDate(year+'-01-01', year+'-12-31') \\\n",
    "                  .map(cloudMaskL457) \\\n",
    "                  .filter(ee.Filter.bounds(region))\n",
    "\n",
    "    image = dataset.select(['B3', 'B2', 'B1']).median()\n",
    "    vis = {\n",
    "      'bands': ['B3', 'B2', 'B1'],\n",
    "      'gamma': 1.4,\n",
    "      'max': 3000,\n",
    "      'min': 0\n",
    "    }\n",
    "  elif year<2013 :\n",
    "    dataset = ee.ImageCollection('LANDSAT/LE07/C01/T1_SR') \\\n",
    "                  .filterDate(year+'-01-01', year+'-12-31') \\\n",
    "                  .map(cloudMaskL457) \\\n",
    "                  .filter(ee.Filter.bounds(region))\n",
    "\n",
    "    image = dataset.select(['B3', 'B2', 'B1']).median()\n",
    "    vis = {\n",
    "      'bands': ['B3', 'B2', 'B1'],\n",
    "      'gamma': 1.4,\n",
    "      'max': 3000,\n",
    "      'min': 0\n",
    "    }\n",
    "  elif {\n",
    "    dataset = ee.ImageCollection('LANDSAT/LC08/C01/T1_SR') \\\n",
    "                  .filterDate(year+'-01-01', year+'-12-31') \\\n",
    "                  .map(maskL8sr) \\\n",
    "                  .filter(ee.Filter.bounds(region))\n",
    "\n",
    "    image = dataset.select(['B4', 'B3', 'B2']).median()\n",
    "    vis = {\n",
    "      'bands': [\"B4\",\"B3\",\"B2\"],\n",
    "      'gamma': 1.4,\n",
    "      'max': 3000,\n",
    "      'min': 0\n",
    "    }\n",
    "  }\n",
    "  Export.image.toDrive({\n",
    "    'image':image.visualize(vis),\n",
    "    'description': year + '_landsat' + '_' + center[0] + '_' + center[1],\n",
    "    'folder': folder,\n",
    "    'fileNamePrefix': year + '_landsat' + '_' + center[0] + '_' + center[1],\n",
    "    'region': region,\n",
    "    'scale': scale})\n",
    "\n",
    "\n",
    "foryear in range(year=1985, year<2020, 1):\n",
    "\n",
    "  #gets right landset and exports image\n",
    "  exportLandsatImage(year)\n",
    "\n",
    "  #creates image of water map and exports\n",
    "  dataset_water = ee.ImageCollection(\"JRC/GSW1_2/YearlyHistory\") \\\n",
    "                  .filterDate(year+'-01-01', year+'-12-31')\n",
    "\n",
    "  image_water = dataset_water.select(['waterClass']).median()\n",
    "\n",
    "  Export.image.toDrive({\n",
    "    'image':image_water.visualize(water_vis),\n",
    "    'description': year + '_water' + '_' + center[0] + '_' + center[1],\n",
    "    'folder': folder,\n",
    "    'fileNamePrefix': year + '_water' + '_' + center[0] + '_' + center[1],\n",
    "    'region': region,\n",
    "    'scale': scale})\n",
    "\n",
    "\n",
    "Map.setCenter((pointA[0]+pointB[0])/2, (pointA[1]+pointB[1])/2, 10)\n",
    "\n"
   ]
  },
  {
   "cell_type": "markdown",
   "metadata": {},
   "source": [
    "## Display Earth Engine data layers "
   ]
  },
  {
   "cell_type": "code",
   "execution_count": null,
   "metadata": {},
   "outputs": [],
   "source": []
  }
 ],
 "metadata": {
  "anaconda-cloud": {},
  "kernelspec": {
   "display_name": "Python 3",
   "language": "python",
   "name": "python3"
  },
  "language_info": {
   "codemirror_mode": {
    "name": "ipython",
    "version": 3
   },
   "file_extension": ".py",
   "mimetype": "text/x-python",
   "name": "python",
   "nbconvert_exporter": "python",
   "pygments_lexer": "ipython3",
   "version": "3.9.2"
  }
 },
 "nbformat": 4,
 "nbformat_minor": 4
}
